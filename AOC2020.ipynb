{
 "cells": [
  {
   "cell_type": "markdown",
   "metadata": {},
   "source": [
    "# Advent of code 2021"
   ]
  },
  {
   "cell_type": "code",
   "execution_count": null,
   "metadata": {},
   "outputs": [],
   "source": [
    "pip install aocd"
   ]
  },
  {
   "cell_type": "code",
   "execution_count": 9,
   "metadata": {},
   "outputs": [],
   "source": [
    "### imports\n",
    "\n",
    "from aocd import submit\n",
    "from aocd.models import Puzzle\n",
    "import typing as tp\n",
    "import os\n",
    "import re\n",
    "from collections import Counter\n",
    "os.environ[\"AOC_SESSION\"]=\"53616c7465645f5f6d9daabe7926fe3860734a70143382fbf0871c7206c1f5a9c1ed3158b28de5d90b71fc296387cb5b\""
   ]
  },
  {
   "cell_type": "markdown",
   "metadata": {},
   "source": [
    "### Day 25"
   ]
  },
  {
   "cell_type": "code",
   "execution_count": 16,
   "metadata": {},
   "outputs": [],
   "source": [
    "puzzle=Puzzle(year=2021,day=25)"
   ]
  },
  {
   "cell_type": "markdown",
   "metadata": {},
   "source": [
    "#### Part a"
   ]
  },
  {
   "cell_type": "code",
   "execution_count": null,
   "metadata": {},
   "outputs": [],
   "source": []
  },
  {
   "cell_type": "code",
   "execution_count": null,
   "metadata": {},
   "outputs": [],
   "source": [
    "puzzle.answer_a = ans_a"
   ]
  },
  {
   "cell_type": "markdown",
   "metadata": {},
   "source": [
    "#### Part b"
   ]
  },
  {
   "cell_type": "code",
   "execution_count": null,
   "metadata": {},
   "outputs": [],
   "source": []
  },
  {
   "cell_type": "code",
   "execution_count": null,
   "metadata": {},
   "outputs": [],
   "source": [
    "puzzle.answer_b = ans_b"
   ]
  },
  {
   "cell_type": "markdown",
   "metadata": {},
   "source": [
    "### Day 24"
   ]
  },
  {
   "cell_type": "code",
   "execution_count": 16,
   "metadata": {},
   "outputs": [],
   "source": [
    "puzzle=Puzzle(year=2021,day=24)"
   ]
  },
  {
   "cell_type": "markdown",
   "metadata": {},
   "source": [
    "#### Part a"
   ]
  },
  {
   "cell_type": "code",
   "execution_count": null,
   "metadata": {},
   "outputs": [],
   "source": []
  },
  {
   "cell_type": "code",
   "execution_count": null,
   "metadata": {},
   "outputs": [],
   "source": [
    "puzzle.answer_a = ans_a"
   ]
  },
  {
   "cell_type": "markdown",
   "metadata": {},
   "source": [
    "#### Part b"
   ]
  },
  {
   "cell_type": "code",
   "execution_count": null,
   "metadata": {},
   "outputs": [],
   "source": []
  },
  {
   "cell_type": "code",
   "execution_count": null,
   "metadata": {},
   "outputs": [],
   "source": [
    "puzzle.answer_b = ans_b"
   ]
  },
  {
   "cell_type": "markdown",
   "metadata": {},
   "source": [
    "### Day 23"
   ]
  },
  {
   "cell_type": "code",
   "execution_count": 16,
   "metadata": {},
   "outputs": [],
   "source": [
    "puzzle=Puzzle(year=2021,day=23)"
   ]
  },
  {
   "cell_type": "markdown",
   "metadata": {},
   "source": [
    "#### Part a"
   ]
  },
  {
   "cell_type": "code",
   "execution_count": null,
   "metadata": {},
   "outputs": [],
   "source": []
  },
  {
   "cell_type": "code",
   "execution_count": null,
   "metadata": {},
   "outputs": [],
   "source": [
    "puzzle.answer_a = ans_a"
   ]
  },
  {
   "cell_type": "markdown",
   "metadata": {},
   "source": [
    "#### Part b"
   ]
  },
  {
   "cell_type": "code",
   "execution_count": null,
   "metadata": {},
   "outputs": [],
   "source": []
  },
  {
   "cell_type": "code",
   "execution_count": null,
   "metadata": {},
   "outputs": [],
   "source": [
    "puzzle.answer_b = ans_b"
   ]
  },
  {
   "cell_type": "markdown",
   "metadata": {},
   "source": [
    "### Day 22"
   ]
  },
  {
   "cell_type": "code",
   "execution_count": 16,
   "metadata": {},
   "outputs": [],
   "source": [
    "puzzle=Puzzle(year=2021,day=22)"
   ]
  },
  {
   "cell_type": "markdown",
   "metadata": {},
   "source": [
    "#### Part a"
   ]
  },
  {
   "cell_type": "code",
   "execution_count": null,
   "metadata": {},
   "outputs": [],
   "source": []
  },
  {
   "cell_type": "code",
   "execution_count": null,
   "metadata": {},
   "outputs": [],
   "source": [
    "puzzle.answer_a = ans_a"
   ]
  },
  {
   "cell_type": "markdown",
   "metadata": {},
   "source": [
    "#### Part b"
   ]
  },
  {
   "cell_type": "code",
   "execution_count": null,
   "metadata": {},
   "outputs": [],
   "source": []
  },
  {
   "cell_type": "code",
   "execution_count": null,
   "metadata": {},
   "outputs": [],
   "source": [
    "puzzle.answer_b = ans_b"
   ]
  },
  {
   "cell_type": "markdown",
   "metadata": {},
   "source": [
    "### Day 21"
   ]
  },
  {
   "cell_type": "code",
   "execution_count": 16,
   "metadata": {},
   "outputs": [],
   "source": [
    "puzzle=Puzzle(year=2021,day=21)"
   ]
  },
  {
   "cell_type": "markdown",
   "metadata": {},
   "source": [
    "#### Part a"
   ]
  },
  {
   "cell_type": "code",
   "execution_count": null,
   "metadata": {},
   "outputs": [],
   "source": []
  },
  {
   "cell_type": "code",
   "execution_count": null,
   "metadata": {},
   "outputs": [],
   "source": [
    "puzzle.answer_a = ans_a"
   ]
  },
  {
   "cell_type": "markdown",
   "metadata": {},
   "source": [
    "#### Part b"
   ]
  },
  {
   "cell_type": "code",
   "execution_count": null,
   "metadata": {},
   "outputs": [],
   "source": []
  },
  {
   "cell_type": "code",
   "execution_count": null,
   "metadata": {},
   "outputs": [],
   "source": [
    "puzzle.answer_b = ans_b"
   ]
  },
  {
   "cell_type": "markdown",
   "metadata": {},
   "source": [
    "### Day 20"
   ]
  },
  {
   "cell_type": "code",
   "execution_count": 16,
   "metadata": {},
   "outputs": [],
   "source": [
    "puzzle=Puzzle(year=2021,day=20)"
   ]
  },
  {
   "cell_type": "markdown",
   "metadata": {},
   "source": [
    "#### Part a"
   ]
  },
  {
   "cell_type": "code",
   "execution_count": null,
   "metadata": {},
   "outputs": [],
   "source": []
  },
  {
   "cell_type": "code",
   "execution_count": null,
   "metadata": {},
   "outputs": [],
   "source": [
    "puzzle.answer_a = ans_a"
   ]
  },
  {
   "cell_type": "markdown",
   "metadata": {},
   "source": [
    "#### Part b"
   ]
  },
  {
   "cell_type": "code",
   "execution_count": null,
   "metadata": {},
   "outputs": [],
   "source": []
  },
  {
   "cell_type": "code",
   "execution_count": null,
   "metadata": {},
   "outputs": [],
   "source": [
    "puzzle.answer_b = ans_b"
   ]
  },
  {
   "cell_type": "markdown",
   "metadata": {},
   "source": [
    "### Day 19"
   ]
  },
  {
   "cell_type": "code",
   "execution_count": 16,
   "metadata": {},
   "outputs": [],
   "source": [
    "puzzle=Puzzle(year=2021,day=19)"
   ]
  },
  {
   "cell_type": "markdown",
   "metadata": {},
   "source": [
    "#### Part a"
   ]
  },
  {
   "cell_type": "code",
   "execution_count": null,
   "metadata": {},
   "outputs": [],
   "source": []
  },
  {
   "cell_type": "code",
   "execution_count": null,
   "metadata": {},
   "outputs": [],
   "source": [
    "puzzle.answer_a = ans_a"
   ]
  },
  {
   "cell_type": "markdown",
   "metadata": {},
   "source": [
    "#### Part b"
   ]
  },
  {
   "cell_type": "code",
   "execution_count": null,
   "metadata": {},
   "outputs": [],
   "source": []
  },
  {
   "cell_type": "code",
   "execution_count": null,
   "metadata": {},
   "outputs": [],
   "source": [
    "submit(answer=ans_b,day=3,part=\"b\",year=2021)"
   ]
  },
  {
   "cell_type": "markdown",
   "metadata": {},
   "source": [
    "### Day 18"
   ]
  },
  {
   "cell_type": "code",
   "execution_count": 16,
   "metadata": {},
   "outputs": [],
   "source": [
    "puzzle=Puzzle(year=2021,day=18)"
   ]
  },
  {
   "cell_type": "markdown",
   "metadata": {},
   "source": [
    "#### Part a"
   ]
  },
  {
   "cell_type": "code",
   "execution_count": null,
   "metadata": {},
   "outputs": [],
   "source": []
  },
  {
   "cell_type": "code",
   "execution_count": null,
   "metadata": {},
   "outputs": [],
   "source": [
    "puzzle.answer_a = ans_a"
   ]
  },
  {
   "cell_type": "markdown",
   "metadata": {},
   "source": [
    "#### Part b"
   ]
  },
  {
   "cell_type": "code",
   "execution_count": null,
   "metadata": {},
   "outputs": [],
   "source": []
  },
  {
   "cell_type": "code",
   "execution_count": null,
   "metadata": {},
   "outputs": [],
   "source": [
    "puzzle.answer_b = ans_b"
   ]
  },
  {
   "cell_type": "markdown",
   "metadata": {},
   "source": [
    "### Day 17"
   ]
  },
  {
   "cell_type": "code",
   "execution_count": 16,
   "metadata": {},
   "outputs": [],
   "source": [
    "puzzle=Puzzle(year=2021,day=17)"
   ]
  },
  {
   "cell_type": "markdown",
   "metadata": {},
   "source": [
    "#### Part a"
   ]
  },
  {
   "cell_type": "code",
   "execution_count": null,
   "metadata": {},
   "outputs": [],
   "source": []
  },
  {
   "cell_type": "code",
   "execution_count": null,
   "metadata": {},
   "outputs": [],
   "source": [
    "puzzle.answer_a = ans_a"
   ]
  },
  {
   "cell_type": "markdown",
   "metadata": {},
   "source": [
    "#### Part b"
   ]
  },
  {
   "cell_type": "code",
   "execution_count": null,
   "metadata": {},
   "outputs": [],
   "source": []
  },
  {
   "cell_type": "code",
   "execution_count": null,
   "metadata": {},
   "outputs": [],
   "source": [
    "puzzle.answer_b = ans_b"
   ]
  },
  {
   "cell_type": "markdown",
   "metadata": {},
   "source": [
    "### Day 16"
   ]
  },
  {
   "cell_type": "code",
   "execution_count": 16,
   "metadata": {},
   "outputs": [],
   "source": [
    "puzzle=Puzzle(year=2021,day=16)"
   ]
  },
  {
   "cell_type": "markdown",
   "metadata": {},
   "source": [
    "#### Part a"
   ]
  },
  {
   "cell_type": "code",
   "execution_count": null,
   "metadata": {},
   "outputs": [],
   "source": []
  },
  {
   "cell_type": "code",
   "execution_count": null,
   "metadata": {},
   "outputs": [],
   "source": [
    "puzzle.answer_a = ans_a"
   ]
  },
  {
   "cell_type": "markdown",
   "metadata": {},
   "source": [
    "#### Part b"
   ]
  },
  {
   "cell_type": "code",
   "execution_count": null,
   "metadata": {},
   "outputs": [],
   "source": []
  },
  {
   "cell_type": "code",
   "execution_count": null,
   "metadata": {},
   "outputs": [],
   "source": [
    "submit(answer=ans_b,day=3,part=\"b\",year=2021)"
   ]
  },
  {
   "cell_type": "markdown",
   "metadata": {},
   "source": [
    "### Day 15"
   ]
  },
  {
   "cell_type": "code",
   "execution_count": 16,
   "metadata": {},
   "outputs": [],
   "source": [
    "puzzle=Puzzle(year=2021,day=15)"
   ]
  },
  {
   "cell_type": "markdown",
   "metadata": {},
   "source": [
    "#### Part a"
   ]
  },
  {
   "cell_type": "code",
   "execution_count": null,
   "metadata": {},
   "outputs": [],
   "source": []
  },
  {
   "cell_type": "code",
   "execution_count": null,
   "metadata": {},
   "outputs": [],
   "source": [
    "puzzle.answer_a = ans_a"
   ]
  },
  {
   "cell_type": "markdown",
   "metadata": {},
   "source": [
    "#### Part b"
   ]
  },
  {
   "cell_type": "code",
   "execution_count": null,
   "metadata": {},
   "outputs": [],
   "source": []
  },
  {
   "cell_type": "code",
   "execution_count": null,
   "metadata": {},
   "outputs": [],
   "source": [
    "puzzle.answer_b = ans_b"
   ]
  },
  {
   "cell_type": "markdown",
   "metadata": {},
   "source": [
    "### Day 14"
   ]
  },
  {
   "cell_type": "code",
   "execution_count": 16,
   "metadata": {},
   "outputs": [],
   "source": [
    "puzzle=Puzzle(year=2021,day=14)"
   ]
  },
  {
   "cell_type": "markdown",
   "metadata": {},
   "source": [
    "#### Part a"
   ]
  },
  {
   "cell_type": "code",
   "execution_count": null,
   "metadata": {},
   "outputs": [],
   "source": []
  },
  {
   "cell_type": "code",
   "execution_count": null,
   "metadata": {},
   "outputs": [],
   "source": [
    "puzzle.answer_a = ans_a"
   ]
  },
  {
   "cell_type": "markdown",
   "metadata": {},
   "source": [
    "#### Part b"
   ]
  },
  {
   "cell_type": "code",
   "execution_count": null,
   "metadata": {},
   "outputs": [],
   "source": []
  },
  {
   "cell_type": "code",
   "execution_count": null,
   "metadata": {},
   "outputs": [],
   "source": [
    "puzzle.answer_b = ans_b"
   ]
  },
  {
   "cell_type": "markdown",
   "metadata": {},
   "source": [
    "### Day 13"
   ]
  },
  {
   "cell_type": "code",
   "execution_count": 16,
   "metadata": {},
   "outputs": [],
   "source": [
    "puzzle=Puzzle(year=2021,day=13)"
   ]
  },
  {
   "cell_type": "markdown",
   "metadata": {},
   "source": [
    "#### Part a"
   ]
  },
  {
   "cell_type": "code",
   "execution_count": null,
   "metadata": {},
   "outputs": [],
   "source": []
  },
  {
   "cell_type": "code",
   "execution_count": null,
   "metadata": {},
   "outputs": [],
   "source": [
    "puzzle.answer_a = ans_a"
   ]
  },
  {
   "cell_type": "markdown",
   "metadata": {},
   "source": [
    "#### Part b"
   ]
  },
  {
   "cell_type": "code",
   "execution_count": null,
   "metadata": {},
   "outputs": [],
   "source": []
  },
  {
   "cell_type": "code",
   "execution_count": null,
   "metadata": {},
   "outputs": [],
   "source": [
    "puzzle.answer_b = ans_b"
   ]
  },
  {
   "cell_type": "markdown",
   "metadata": {},
   "source": [
    "### Day 12"
   ]
  },
  {
   "cell_type": "code",
   "execution_count": 16,
   "metadata": {},
   "outputs": [],
   "source": [
    "puzzle=Puzzle(year=2021,day=12)"
   ]
  },
  {
   "cell_type": "markdown",
   "metadata": {},
   "source": [
    "#### Part a"
   ]
  },
  {
   "cell_type": "code",
   "execution_count": null,
   "metadata": {},
   "outputs": [],
   "source": []
  },
  {
   "cell_type": "code",
   "execution_count": null,
   "metadata": {},
   "outputs": [],
   "source": [
    "puzzle.answer_a = ans_a"
   ]
  },
  {
   "cell_type": "markdown",
   "metadata": {},
   "source": [
    "#### Part b"
   ]
  },
  {
   "cell_type": "code",
   "execution_count": null,
   "metadata": {},
   "outputs": [],
   "source": []
  },
  {
   "cell_type": "code",
   "execution_count": null,
   "metadata": {},
   "outputs": [],
   "source": [
    "puzzle.answer_b = ans_b"
   ]
  },
  {
   "cell_type": "markdown",
   "metadata": {},
   "source": [
    "### Day 11"
   ]
  },
  {
   "cell_type": "code",
   "execution_count": 16,
   "metadata": {},
   "outputs": [],
   "source": [
    "puzzle=Puzzle(year=2021,day=11)"
   ]
  },
  {
   "cell_type": "markdown",
   "metadata": {},
   "source": [
    "#### Part a"
   ]
  },
  {
   "cell_type": "code",
   "execution_count": null,
   "metadata": {},
   "outputs": [],
   "source": []
  },
  {
   "cell_type": "code",
   "execution_count": null,
   "metadata": {},
   "outputs": [],
   "source": [
    "puzzle.answer_a = ans_a"
   ]
  },
  {
   "cell_type": "markdown",
   "metadata": {},
   "source": [
    "#### Part b"
   ]
  },
  {
   "cell_type": "code",
   "execution_count": null,
   "metadata": {},
   "outputs": [],
   "source": []
  },
  {
   "cell_type": "code",
   "execution_count": null,
   "metadata": {},
   "outputs": [],
   "source": [
    "puzzle.answer_b = ans_b"
   ]
  },
  {
   "cell_type": "markdown",
   "metadata": {},
   "source": [
    "### Day 10"
   ]
  },
  {
   "cell_type": "code",
   "execution_count": 6,
   "metadata": {},
   "outputs": [],
   "source": [
    "puzzle=Puzzle(year=2020,day=10)"
   ]
  },
  {
   "cell_type": "markdown",
   "metadata": {},
   "source": [
    "#### Part a"
   ]
  },
  {
   "cell_type": "code",
   "execution_count": 29,
   "metadata": {},
   "outputs": [
    {
     "name": "stdout",
     "output_type": "stream",
     "text": [
      "Counter({1: 1, 3: 1})\n",
      "Counter({1: 72, 3: 31})\n",
      "2232\n"
     ]
    }
   ],
   "source": [
    "joltages=list(map(int,puzzle.input_data.split('\\n')))\n",
    "joltages.sort()\n",
    "diff_dict=Counter({joltages[0]:1,3:1})\n",
    "print(diff_dict)\n",
    "for n_charger in range(len(joltages)-1):\n",
    "    diff_dict.update({(joltages[n_charger+1]-joltages[n_charger])})\n",
    "\n",
    "print(diff_dict)\n",
    "ans_a=diff_dict[1]*diff_dict[3]\n",
    "print(ans_a)"
   ]
  },
  {
   "cell_type": "code",
   "execution_count": 30,
   "metadata": {},
   "outputs": [
    {
     "name": "stdout",
     "output_type": "stream",
     "text": [
      "\u001b[32mThat's the right answer!  You are one gold star closer to saving your vacation. [Continue to Part Two]\u001b[0m\n"
     ]
    }
   ],
   "source": [
    "puzzle.answer_a = ans_a"
   ]
  },
  {
   "cell_type": "markdown",
   "metadata": {},
   "source": [
    "#### Part b"
   ]
  },
  {
   "cell_type": "code",
   "execution_count": 48,
   "metadata": {},
   "outputs": [
    {
     "name": "stdout",
     "output_type": "stream",
     "text": [
      "173625106649344\n"
     ]
    }
   ],
   "source": [
    "diff_dict=Counter({joltages[0]:1,3:1})\n",
    "\n",
    "n_possibilities=1\n",
    "\n",
    "max_range=3\n",
    "#n_possibilities*=4\n",
    "\n",
    "connect={}\n",
    "\n",
    "connect[3]=4\n",
    "connect[2]=2\n",
    "connect[1]=1\n",
    "\n",
    "for n_charger in range(3,len(joltages)):\n",
    "    connect[joltages[n_charger]]=0\n",
    "    for var in range(1,max_range+1):\n",
    "        if joltages[n_charger]-var in joltages[n_charger-max_range:n_charger]:\n",
    "            connect[joltages[n_charger]]+=connect[joltages[n_charger]-var]\n",
    "    #diff_dict.update({(joltages[n_charger+1]-joltages[n_charger])})\n",
    "\n",
    "#print(diff_dict)\n",
    "ans_b=connect[joltages[-1]]\n",
    "print(ans_b)"
   ]
  },
  {
   "cell_type": "code",
   "execution_count": 49,
   "metadata": {},
   "outputs": [],
   "source": [
    "puzzle.answer_b = ans_b"
   ]
  },
  {
   "cell_type": "markdown",
   "metadata": {},
   "source": [
    "### Day 9"
   ]
  },
  {
   "cell_type": "code",
   "execution_count": 2,
   "metadata": {},
   "outputs": [],
   "source": [
    "puzzle=Puzzle(year=2020,day=9)"
   ]
  },
  {
   "cell_type": "markdown",
   "metadata": {},
   "source": [
    "#### Part a"
   ]
  },
  {
   "cell_type": "code",
   "execution_count": 3,
   "metadata": {},
   "outputs": [
    {
     "name": "stdout",
     "output_type": "stream",
     "text": [
      "529 22477624\n"
     ]
    }
   ],
   "source": [
    "xmas=list(map(int,puzzle.input_data.split('\\n')))\n",
    "\n",
    "def check_valid(list_choice:tp.List[int],target:int)->bool:\n",
    "    list_choice.sort()\n",
    "    i_start=0\n",
    "    i_end=len(list_choice)-1\n",
    "    \n",
    "    while i_start!=i_end:\n",
    "        present_sum=list_choice[i_start]+list_choice[i_end]\n",
    "        if present_sum==target:\n",
    "            return True\n",
    "        elif present_sum>target:\n",
    "            i_end-=1\n",
    "        elif present_sum<target:\n",
    "            i_start+=1\n",
    "        else:\n",
    "            raise Exception(\"yeah... c'est la merde\")\n",
    "\n",
    "valid=True\n",
    "len_code=25\n",
    "id_valid=len_code\n",
    "while valid:\n",
    "    valid=check_valid(xmas[id_valid-len_code:id_valid],xmas[id_valid])\n",
    "    id_valid+=1\n",
    "\n",
    "print(id_valid,xmas[id_valid-1])\n",
    "ans_a=xmas[id_valid-1]\n"
   ]
  },
  {
   "cell_type": "code",
   "execution_count": 4,
   "metadata": {},
   "outputs": [],
   "source": [
    "puzzle.answer_a = ans_a"
   ]
  },
  {
   "cell_type": "markdown",
   "metadata": {},
   "source": [
    "#### Part b"
   ]
  },
  {
   "cell_type": "code",
   "execution_count": 37,
   "metadata": {},
   "outputs": [
    {
     "name": "stdout",
     "output_type": "stream",
     "text": [
      "416 432 22477624 [895445, 1081046, 994874, 1039612, 1071827, 1143075, 1239647, 1385449, 1217317, 1331670, 1346104, 1438234, 1422106, 1472136, 2084599, 1485663, 1828820]\n",
      "22477624\n",
      "2980044\n"
     ]
    }
   ],
   "source": [
    "target=ans_a\n",
    "\n",
    "\n",
    "i_start=0\n",
    "i_end=1\n",
    "found=False\n",
    "while not found:\n",
    "    present_sum=sum(xmas[i_start:i_end+1])\n",
    "    if present_sum==target:\n",
    "        found=True\n",
    "    elif present_sum>target:\n",
    "        i_start+=1\n",
    "    elif present_sum<target:\n",
    "        i_end+=1\n",
    "    else:\n",
    "        raise Exception(\"yeah... c'est la merde\")\n",
    "    \n",
    "\n",
    "print(i_start,i_end,sum(xmas[i_start:i_end+1]),xmas[i_start:i_end+1])\n",
    "ans_b=min(xmas[i_start:i_end+1])+max(xmas[i_start:i_end+1])\n",
    "print(sum([895445, 1081046, 994874, 1039612, 1071827, 1143075, 1239647, 1385449, 1217317, 1331670, 1346104, 1438234, 1422106, 1472136, 2084599, 1485663, 1828820]))\n",
    "print(ans_b)"
   ]
  },
  {
   "cell_type": "code",
   "execution_count": 38,
   "metadata": {},
   "outputs": [
    {
     "name": "stdout",
     "output_type": "stream",
     "text": [
      "\u001b[32mThat's the right answer!  You are one gold star closer to saving your vacation.You have completed Day 9! You can [Shareon\n",
      "  Twitter\n",
      "Mastodon] this victory or [Return to Your Advent Calendar].\u001b[0m\n"
     ]
    }
   ],
   "source": [
    "puzzle.answer_b = ans_b"
   ]
  },
  {
   "cell_type": "markdown",
   "metadata": {},
   "source": [
    "### Day 8"
   ]
  },
  {
   "cell_type": "code",
   "execution_count": 3,
   "metadata": {},
   "outputs": [],
   "source": [
    "puzzle=Puzzle(year=2020,day=8)"
   ]
  },
  {
   "cell_type": "markdown",
   "metadata": {},
   "source": [
    "#### Part a"
   ]
  },
  {
   "cell_type": "code",
   "execution_count": 80,
   "metadata": {},
   "outputs": [
    {
     "name": "stdout",
     "output_type": "stream",
     "text": [
      "1337\n"
     ]
    }
   ],
   "source": [
    "code=puzzle.input_data.split('\\n')\n",
    "\n",
    "seen_lines=set()\n",
    "\n",
    "line_to_look_at=0\n",
    "acc=0\n",
    "\n",
    "while not line_to_look_at in seen_lines or line_to_look_at==len(code):\n",
    "    seen_lines.add(line_to_look_at)\n",
    "    task,amount=code[line_to_look_at].split(' ')\n",
    "    if task==\"acc\":\n",
    "        acc+=int(amount)\n",
    "        line_to_look_at+=1\n",
    "    elif task==\"jmp\":\n",
    "        line_to_look_at+=int(amount)\n",
    "    elif task==\"nop\":\n",
    "        line_to_look_at+=1\n",
    "    else:\n",
    "        raise Exception(\"wrong instruction\")\n",
    "ans_a=acc\n",
    "print(ans_a)\n"
   ]
  },
  {
   "cell_type": "code",
   "execution_count": 81,
   "metadata": {},
   "outputs": [
    {
     "name": "stdout",
     "output_type": "stream",
     "text": [
      "\u001b[32mThat's the right answer!  You are one gold star closer to saving your vacation. [Continue to Part Two]\u001b[0m\n"
     ]
    }
   ],
   "source": [
    "puzzle.answer_a = ans_a"
   ]
  },
  {
   "cell_type": "markdown",
   "metadata": {},
   "source": [
    "#### Part b"
   ]
  },
  {
   "cell_type": "code",
   "execution_count": 4,
   "metadata": {},
   "outputs": [
    {
     "name": "stdout",
     "output_type": "stream",
     "text": [
      "1358 1\n"
     ]
    }
   ],
   "source": [
    "code=puzzle.input_data.split('\\n')\n",
    "#code=open(\"example_day8.txt\").read().split('\\n')\n",
    "\n",
    "def modify_line(code:tp.List[str],i_change):\n",
    "    if code[i_change][:3]==\"nop\":\n",
    "        code=code[:i_change]+[code[i_change].replace(\"nop\",\"jmp\")]+code[i_change+1:]\n",
    "    elif code[i_change][:3]==\"jmp\":\n",
    "        code=code[:i_change]+[code[i_change].replace(\"jmp\",\"nop\")]+code[i_change+1:]\n",
    "    \n",
    "    line_to_look_at=0\n",
    "    acc=0\n",
    "    seen_lines=set()\n",
    "    while not line_to_look_at in seen_lines and not line_to_look_at==len(code):\n",
    "        seen_lines.add(line_to_look_at)\n",
    "        task,amount=code[line_to_look_at].split(' ')\n",
    "        if task==\"acc\":\n",
    "            acc+=int(amount)\n",
    "            line_to_look_at+=1\n",
    "        elif task==\"jmp\":\n",
    "            line_to_look_at+=int(amount)\n",
    "        elif task==\"nop\":\n",
    "            line_to_look_at+=1\n",
    "        else:\n",
    "            raise Exception(\"wrong instruction\")\n",
    "    if line_to_look_at==len(code):\n",
    "        return True,acc\n",
    "    else:\n",
    "        return False,acc\n",
    "ctr=0\n",
    "for i_change in range(len(code)):\n",
    "    bool_accept,potential_acc=modify_line(code,i_change)\n",
    "    if bool_accept:\n",
    "        ans_b=potential_acc\n",
    "        ctr+=1\n",
    "    #print(potential_acc)\n",
    "\n",
    "print(ans_b,ctr)\n"
   ]
  },
  {
   "cell_type": "code",
   "execution_count": 23,
   "metadata": {},
   "outputs": [
    {
     "name": "stdout",
     "output_type": "stream",
     "text": [
      "\u001b[32mThat's the right answer!  You are one gold star closer to saving your vacation.You have completed Day 8! You can [Shareon\n",
      "  Twitter\n",
      "Mastodon] this victory or [Return to Your Advent Calendar].\u001b[0m\n"
     ]
    }
   ],
   "source": [
    "puzzle.answer_b = ans_b"
   ]
  },
  {
   "cell_type": "markdown",
   "metadata": {},
   "source": [
    "### Day 7"
   ]
  },
  {
   "cell_type": "code",
   "execution_count": 4,
   "metadata": {},
   "outputs": [],
   "source": [
    "puzzle=Puzzle(year=2020,day=7)"
   ]
  },
  {
   "cell_type": "markdown",
   "metadata": {},
   "source": [
    "#### Part a"
   ]
  },
  {
   "cell_type": "code",
   "execution_count": 75,
   "metadata": {},
   "outputs": [
    {
     "name": "stdout",
     "output_type": "stream",
     "text": [
      "103\n"
     ]
    }
   ],
   "source": [
    "rules=[line.strip(\".\") for line in puzzle.input_data.split('\\n')]\n",
    "\n",
    "def generate_string(n_bags:int,bag_color:str) -> str:\n",
    "    return(f\"{n_bags} {bag_color}\")\n",
    "\n",
    "def split_bag_number(in_string:str) -> [int,str]:\n",
    "    nbr,color=in_string.split(' ',maxsplit=1)\n",
    "    if nbr==\"no\":\n",
    "        return 0,None\n",
    "    return [int(nbr),color]\n",
    "\n",
    "def parse_rule(in_string:str)->[str,str]:\n",
    "    container,contained=in_string.split(' contain ')\n",
    "    contained=[split_bag_number(bags.replace(r\" bags\",\"\").replace(\" bag\",\"\")) for bags in contained.split(\", \")]\n",
    "    return container.replace(\" bags\",\"\"),contained\n",
    "\n",
    "container_dict={}\n",
    "\n",
    "for rule in rules:\n",
    "    container,contained=parse_rule(rule)\n",
    "    container_dict[container]=contained\n",
    "    #print(container)\n",
    "    #print(contained)\n",
    "    #print(container_dict[container])\n",
    "\n",
    "def check_presence(color_out:str,color_in:str,container_dict:dict)->bool:\n",
    "    if color_out==None:\n",
    "        return False\n",
    "    elif any([bag_type[1]==color_in for bag_type in container_dict[color_out]]):\n",
    "        return True\n",
    "    else:\n",
    "        return any([check_presence(bag_type[1],color_in,container_dict) for bag_type in container_dict[color_out]])\n",
    "            \n",
    "target_bag=\"shiny gold\"\n",
    "\n",
    "ctr=0\n",
    "for bag_type in container_dict:\n",
    "    if check_presence(bag_type,target_bag,container_dict):\n",
    "        ctr+=1\n",
    "ans_a=ctr\n",
    "print(ans_a)"
   ]
  },
  {
   "cell_type": "code",
   "execution_count": 76,
   "metadata": {},
   "outputs": [],
   "source": [
    "puzzle.answer_a = ans_a"
   ]
  },
  {
   "cell_type": "markdown",
   "metadata": {},
   "source": [
    "#### Part b"
   ]
  },
  {
   "cell_type": "code",
   "execution_count": 73,
   "metadata": {},
   "outputs": [
    {
     "name": "stdout",
     "output_type": "stream",
     "text": [
      "1469\n"
     ]
    }
   ],
   "source": [
    "def check_content(bag_out:str,container_dict:dict)->int:\n",
    "    total_bags=0\n",
    "\n",
    "    for bag_type in container_dict[bag_out]:\n",
    "        if bag_type[0]==0:\n",
    "            return 0\n",
    "        else:\n",
    "            total_bags+=bag_type[0]*(check_content(bag_type[1],container_dict)+1)\n",
    "    return total_bags\n",
    "\n",
    "ans_b=check_content(target_bag,container_dict)\n",
    "\n",
    "print(ans_b)\n",
    "    "
   ]
  },
  {
   "cell_type": "code",
   "execution_count": 74,
   "metadata": {},
   "outputs": [
    {
     "name": "stdout",
     "output_type": "stream",
     "text": [
      "\u001b[32mThat's the right answer!  You are one gold star closer to saving your vacation.You have completed Day 7! You can [Shareon\n",
      "  Twitter\n",
      "Mastodon] this victory or [Return to Your Advent Calendar].\u001b[0m\n"
     ]
    }
   ],
   "source": [
    "puzzle.answer_b = ans_b"
   ]
  },
  {
   "cell_type": "markdown",
   "metadata": {},
   "source": [
    "### Day 6"
   ]
  },
  {
   "cell_type": "code",
   "execution_count": 12,
   "metadata": {},
   "outputs": [],
   "source": [
    "puzzle=Puzzle(year=2020,day=6)"
   ]
  },
  {
   "cell_type": "markdown",
   "metadata": {},
   "source": [
    "#### Part a"
   ]
  },
  {
   "cell_type": "code",
   "execution_count": 28,
   "metadata": {},
   "outputs": [
    {
     "name": "stdout",
     "output_type": "stream",
     "text": [
      "3430\n"
     ]
    }
   ],
   "source": [
    "grouped_answers=puzzle.input_data.split('\\n\\n')\n",
    "\n",
    "total_score=0\n",
    "for answers in grouped_answers:\n",
    "    all_answers=answers.split('\\n')\n",
    "    for ans in all_answers[0]:\n",
    "        if (all(ans in specific_answer for specific_answer in all_answers)):\n",
    "            total_score+=1\n",
    "\n",
    "ans_b=total_score\n",
    "print(ans_b)"
   ]
  },
  {
   "cell_type": "code",
   "execution_count": 29,
   "metadata": {},
   "outputs": [
    {
     "name": "stdout",
     "output_type": "stream",
     "text": [
      "\u001b[32mThat's the right answer!  You are one gold star closer to saving your vacation.You have completed Day 6! You can [Shareon\n",
      "  Twitter\n",
      "Mastodon] this victory or [Return to Your Advent Calendar].\u001b[0m\n"
     ]
    }
   ],
   "source": [
    "puzzle.answer_b = ans_b"
   ]
  },
  {
   "cell_type": "markdown",
   "metadata": {},
   "source": [
    "#### Part b"
   ]
  },
  {
   "cell_type": "code",
   "execution_count": null,
   "metadata": {},
   "outputs": [],
   "source": [
    "\n",
    "total_score=0\n",
    "for answers in grouped_answers:\n",
    "    all_answers=answers.split('\\n')\n",
    "    for answer in all_answers[0]:\n",
    "        \n",
    "    n_answers=len(set(all_answers))\n",
    "    total_score+=n_answers\n",
    "ans_a=total_score\n",
    "print(ans_a)"
   ]
  },
  {
   "cell_type": "code",
   "execution_count": null,
   "metadata": {},
   "outputs": [],
   "source": [
    "puzzle.answer_b = ans_b"
   ]
  },
  {
   "cell_type": "markdown",
   "metadata": {},
   "source": [
    "### Day 5"
   ]
  },
  {
   "cell_type": "code",
   "execution_count": 2,
   "metadata": {},
   "outputs": [],
   "source": [
    "puzzle=Puzzle(year=2020,day=5)"
   ]
  },
  {
   "cell_type": "markdown",
   "metadata": {},
   "source": [
    "#### Part a"
   ]
  },
  {
   "cell_type": "code",
   "execution_count": 5,
   "metadata": {},
   "outputs": [],
   "source": [
    "input_data=puzzle.input_data.split('\\n')\n",
    "\n",
    "ans_a=max([int(line.replace(\"F\",\"0\").replace(\"B\",\"1\").replace(\"R\",\"1\").replace(\"L\",\"0\"),2) for line in input_data])\n",
    "\n"
   ]
  },
  {
   "cell_type": "code",
   "execution_count": 6,
   "metadata": {},
   "outputs": [
    {
     "name": "stdout",
     "output_type": "stream",
     "text": [
      "\u001b[32mThat's the right answer!  You are one gold star closer to saving your vacation. [Continue to Part Two]\u001b[0m\n"
     ]
    }
   ],
   "source": [
    "puzzle.answer_a = ans_a"
   ]
  },
  {
   "cell_type": "markdown",
   "metadata": {},
   "source": [
    "#### Part b"
   ]
  },
  {
   "cell_type": "code",
   "execution_count": 7,
   "metadata": {},
   "outputs": [],
   "source": [
    "list_of_seats=[int(line.replace(\"F\",\"0\").replace(\"B\",\"1\").replace(\"R\",\"1\").replace(\"L\",\"0\"),2) for line in input_data]\n",
    "list_of_seats.sort()\n",
    "\n",
    "for idx in range(1,len(list_of_seats)):\n",
    "    if list_of_seats[idx-1]+1!=list_of_seats[idx]:\n",
    "        ans_b=list_of_seats[idx]-1"
   ]
  },
  {
   "cell_type": "code",
   "execution_count": 8,
   "metadata": {},
   "outputs": [
    {
     "name": "stdout",
     "output_type": "stream",
     "text": [
      "\u001b[32mThat's the right answer!  You are one gold star closer to saving your vacation.You have completed Day 5! You can [Shareon\n",
      "  Twitter\n",
      "Mastodon] this victory or [Return to Your Advent Calendar].\u001b[0m\n"
     ]
    }
   ],
   "source": [
    "puzzle.answer_b = ans_b"
   ]
  },
  {
   "cell_type": "markdown",
   "metadata": {},
   "source": [
    "### Day 4"
   ]
  },
  {
   "cell_type": "code",
   "execution_count": 4,
   "metadata": {},
   "outputs": [],
   "source": [
    "puzzle=Puzzle(year=2020,day=4)"
   ]
  },
  {
   "cell_type": "markdown",
   "metadata": {},
   "source": [
    "#### Part a"
   ]
  },
  {
   "cell_type": "code",
   "execution_count": 22,
   "metadata": {},
   "outputs": [],
   "source": [
    "import re\n",
    "keys_to_check=[\"byr\",\"iyr\",\"eyr\",\"hgt\",\"hcl\",\"ecl\",\"pid\"]\n",
    "#\"cid\"\n",
    "passports=puzzle.input_data#.strip().split('\\n')\n",
    "passports_mod=re.sub(\"\\n\\n\",\";\",passports)\n",
    "passports_mod=re.sub(\"[\\ \\n]\",\",\",passports_mod)\n",
    "\n",
    "ctr_valid=0\n",
    "for i_line,line in enumerate(passports_mod.split(';')):\n",
    "    passport=dict((x,y) for x,y in (entry.split(':') for entry in line.split(',')))\n",
    "    if all(key in passport for key in keys_to_check):\n",
    "        ctr_valid+=1\n",
    "    \n",
    "\n",
    "ans_a=ctr_valid"
   ]
  },
  {
   "cell_type": "code",
   "execution_count": 21,
   "metadata": {},
   "outputs": [
    {
     "name": "stdout",
     "output_type": "stream",
     "text": [
      "\u001b[32mThat's the right answer!  You are one gold star closer to saving your vacation. [Continue to Part Two]\u001b[0m\n"
     ]
    }
   ],
   "source": [
    "puzzle.answer_a = ans_a"
   ]
  },
  {
   "cell_type": "markdown",
   "metadata": {},
   "source": [
    "#### Part b"
   ]
  },
  {
   "cell_type": "code",
   "execution_count": 50,
   "metadata": {},
   "outputs": [
    {
     "name": "stdout",
     "output_type": "stream",
     "text": [
      "103\n"
     ]
    }
   ],
   "source": [
    "import string\n",
    "\n",
    "ctr_valid=0\n",
    "\n",
    "\n",
    "test={}\n",
    "\n",
    "for i_line,line in enumerate(passports_mod.split(';')):\n",
    "    passport=dict((x,y) for x,y in (entry.split(':') for entry in line.split(',')))\n",
    "    if all(key in passport for key in keys_to_check):\n",
    "        if all([int(passport[\"byr\"])>=1920,int(passport[\"byr\"])<=2002,int(passport[\"iyr\"])>=2010,int(passport[\"iyr\"])<=2020,\n",
    "                int(passport[\"eyr\"])>=2020,int(passport[\"eyr\"])<=2030,\n",
    "                any([\"cm\" in passport[\"hgt\"] and int(passport[\"hgt\"].strip()[:-2])>=150 and int(passport[\"hgt\"].strip()[:-2])<=193,\n",
    "                     \"in\" in passport[\"hgt\"] and int(passport[\"hgt\"].strip()[:-2])>=59 and int(passport[\"hgt\"].strip()[:-2])<=76]),\n",
    "                len(passport[\"hcl\"])==7 and all(c in string.hexdigits for c in passport[\"hcl\"][1:]) and passport[\"hcl\"][0]==\"#\",\n",
    "                passport[\"ecl\"] in [\"amb\",\"blu\",\"brn\",\"gry\",\"grn\",\"hzl\",\"oth\"],\n",
    "                len(passport[\"pid\"])==9,passport[\"pid\"].isdigit()]):\n",
    "            ctr_valid+=1\n",
    "    \n",
    "ans_b=ctr_valid\n",
    "print(ans_b)      \n"
   ]
  },
  {
   "cell_type": "code",
   "execution_count": null,
   "metadata": {},
   "outputs": [],
   "source": []
  },
  {
   "cell_type": "code",
   "execution_count": 51,
   "metadata": {},
   "outputs": [
    {
     "name": "stdout",
     "output_type": "stream",
     "text": [
      "\u001b[32mThat's the right answer!  You are one gold star closer to saving your vacation.You have completed Day 4! You can [Shareon\n",
      "  Twitter\n",
      "Mastodon] this victory or [Return to Your Advent Calendar].\u001b[0m\n"
     ]
    }
   ],
   "source": [
    "puzzle.answer_b = ans_b"
   ]
  },
  {
   "cell_type": "markdown",
   "metadata": {},
   "source": [
    "### Day 3"
   ]
  },
  {
   "cell_type": "code",
   "execution_count": 93,
   "metadata": {},
   "outputs": [],
   "source": [
    "puzzle=Puzzle(year=2020,day=3)"
   ]
  },
  {
   "cell_type": "markdown",
   "metadata": {},
   "source": [
    "#### Part a"
   ]
  },
  {
   "cell_type": "code",
   "execution_count": 97,
   "metadata": {},
   "outputs": [
    {
     "name": "stdout",
     "output_type": "stream",
     "text": [
      "223\n"
     ]
    }
   ],
   "source": [
    "terrain=puzzle.input_data.strip().split('\\n')\n",
    "#print(terrain)\n",
    "def count_trees(terrain:tp.List[str],speed_hor:int,speed_down:int=1)->int:\n",
    "    ctr_trees=0\n",
    "    for i_vert,line in enumerate(terrain[::speed_down]):\n",
    "        if line[(speed_hor*i_vert)%len(line)]==\"#\":\n",
    "            ctr_trees+=1\n",
    "    return ctr_trees\n",
    "ans_a=count_trees(terrain,3,1)\n",
    "print(ans_a)"
   ]
  },
  {
   "cell_type": "code",
   "execution_count": 98,
   "metadata": {},
   "outputs": [],
   "source": [
    "puzzle.answer_a = ans_a"
   ]
  },
  {
   "cell_type": "markdown",
   "metadata": {},
   "source": [
    "#### Part b"
   ]
  },
  {
   "cell_type": "code",
   "execution_count": 99,
   "metadata": {},
   "outputs": [],
   "source": [
    "ans_b=count_trees(terrain,1,1)*count_trees(terrain,3,1)*count_trees(terrain,5,1)*count_trees(terrain,7,1)*count_trees(terrain,1,2)"
   ]
  },
  {
   "cell_type": "code",
   "execution_count": 100,
   "metadata": {},
   "outputs": [],
   "source": [
    "puzzle.answer_b = ans_b"
   ]
  },
  {
   "cell_type": "markdown",
   "metadata": {},
   "source": [
    "### Day 2"
   ]
  },
  {
   "cell_type": "code",
   "execution_count": 23,
   "metadata": {},
   "outputs": [],
   "source": [
    "puzzle=Puzzle(year=2020,day=2)"
   ]
  },
  {
   "cell_type": "markdown",
   "metadata": {},
   "source": [
    "#### Part a"
   ]
  },
  {
   "cell_type": "code",
   "execution_count": 33,
   "metadata": {},
   "outputs": [],
   "source": [
    "conditions=[line.split(' ') for line in puzzle.input_data.strip().split('\\n')]\n",
    "ctr_valid=0\n",
    "for line in conditions:\n",
    "    [low_limit,high_limit]=line[0].split('-')\n",
    "#    print(line[1][1])\n",
    "    character=line[1][0]\n",
    "    n_times=line[2].count(character)\n",
    "    if n_times>=int(low_limit) and n_times<=int(high_limit):\n",
    "        ctr_valid+=1\n",
    "\n",
    "ans_a=ctr_valid"
   ]
  },
  {
   "cell_type": "code",
   "execution_count": 34,
   "metadata": {},
   "outputs": [
    {
     "name": "stdout",
     "output_type": "stream",
     "text": [
      "\u001b[32mThat's the right answer!  You are one gold star closer to saving your vacation. [Continue to Part Two]\u001b[0m\n"
     ]
    }
   ],
   "source": [
    "puzzle.answer_a = ans_a\n",
    "#submit(answer=ans_a,day=2,part=\"a\",year=2021)"
   ]
  },
  {
   "cell_type": "markdown",
   "metadata": {},
   "source": [
    "#### Part b"
   ]
  },
  {
   "cell_type": "code",
   "execution_count": 38,
   "metadata": {},
   "outputs": [],
   "source": [
    "conditions=[line.split(' ') for line in puzzle.input_data.strip().split('\\n')]\n",
    "ctr_valid=0\n",
    "for line in conditions:\n",
    "    [low_limit,high_limit]=line[0].split('-')\n",
    "#    print(line[1][1])\n",
    "    character=line[1][0]\n",
    "    if (line[2][int(low_limit)-1]==character) ^ (line[2][int(high_limit)-1]==character):\n",
    "        ctr_valid+=1\n",
    "\n",
    "ans_b=ctr_valid"
   ]
  },
  {
   "cell_type": "code",
   "execution_count": 39,
   "metadata": {},
   "outputs": [
    {
     "name": "stdout",
     "output_type": "stream",
     "text": [
      "\u001b[32mThat's the right answer!  You are one gold star closer to saving your vacation.You have completed Day 2! You can [Shareon\n",
      "  Twitter\n",
      "Mastodon] this victory or [Return to Your Advent Calendar].\u001b[0m\n"
     ]
    }
   ],
   "source": [
    "puzzle.answer_b = ans_b"
   ]
  },
  {
   "cell_type": "markdown",
   "metadata": {},
   "source": [
    "### Day 1"
   ]
  },
  {
   "cell_type": "code",
   "execution_count": 2,
   "metadata": {},
   "outputs": [],
   "source": [
    "puzzle=Puzzle(year=2020,day=1)"
   ]
  },
  {
   "cell_type": "code",
   "execution_count": 7,
   "metadata": {},
   "outputs": [
    {
     "name": "stdout",
     "output_type": "stream",
     "text": [
      "983 1037\n"
     ]
    }
   ],
   "source": [
    "sorted_expense=sorted([int(cost) for cost in puzzle.input_data.strip().split('\\n')])\n",
    "\n",
    "i_start=0\n",
    "i_end=len(sorted_expense)-1\n",
    "total=0\n",
    "\n",
    "target=2020\n",
    "\n",
    "while total!=target:\n",
    "    total=sorted_expense[i_start]+sorted_expense[i_end]\n",
    "    if total>target:\n",
    "        i_end-=1\n",
    "    elif total<target:\n",
    "        i_start+=1\n",
    "print(sorted_expense[i_start],sorted_expense[i_end])\n",
    "ans_a=sorted_expense[i_start]*sorted_expense[i_end]"
   ]
  },
  {
   "cell_type": "code",
   "execution_count": 9,
   "metadata": {},
   "outputs": [
    {
     "name": "stdout",
     "output_type": "stream",
     "text": [
      "\u001b[32mThat's the right answer!  You are one gold star closer to saving your vacation. [Continue to Part Two]\u001b[0m\n"
     ]
    }
   ],
   "source": [
    "puzzle.answer_a = ans_a"
   ]
  },
  {
   "cell_type": "code",
   "execution_count": 15,
   "metadata": {},
   "outputs": [
    {
     "name": "stdout",
     "output_type": "stream",
     "text": [
      "453 777 790\n",
      "278064990\n"
     ]
    }
   ],
   "source": [
    "i_start=0\n",
    "i_center=1\n",
    "i_end=len(sorted_expense)-1\n",
    "total=0\n",
    "\n",
    "target=2020\n",
    "\n",
    "while total!=target:\n",
    "    total=sorted_expense[i_start]+sorted_expense[i_center]+sorted_expense[i_end]\n",
    "    if total>target:\n",
    "        i_end-=1\n",
    "    elif total<target:\n",
    "        i_center+=1\n",
    "    if i_end==i_center:\n",
    "        i_start+=1\n",
    "        i_center=i_start+1\n",
    "        i_end=len(sorted_expense)-1\n",
    "print(sorted_expense[i_start],sorted_expense[i_center],sorted_expense[i_end])\n",
    "ans_b=sorted_expense[i_start]*sorted_expense[i_center]*sorted_expense[i_end]\n",
    "print(ans_b)"
   ]
  },
  {
   "cell_type": "code",
   "execution_count": 16,
   "metadata": {},
   "outputs": [
    {
     "name": "stdout",
     "output_type": "stream",
     "text": [
      "\u001b[32mThat's the right answer!  You are one gold star closer to saving your vacation.You have completed Day 1! You can [Shareon\n",
      "  Twitter\n",
      "Mastodon] this victory or [Return to Your Advent Calendar].\u001b[0m\n"
     ]
    }
   ],
   "source": [
    "puzzle.answer_b=ans_b"
   ]
  },
  {
   "cell_type": "code",
   "execution_count": null,
   "metadata": {},
   "outputs": [],
   "source": []
  }
 ],
 "metadata": {
  "kernelspec": {
   "display_name": "Python 3",
   "language": "python",
   "name": "python3"
  },
  "language_info": {
   "codemirror_mode": {
    "name": "ipython",
    "version": 3
   },
   "file_extension": ".py",
   "mimetype": "text/x-python",
   "name": "python",
   "nbconvert_exporter": "python",
   "pygments_lexer": "ipython3",
   "version": "3.8.5"
  }
 },
 "nbformat": 4,
 "nbformat_minor": 4
}
